{
  "nbformat": 4,
  "nbformat_minor": 0,
  "metadata": {
    "colab": {
      "provenance": [],
      "authorship_tag": "ABX9TyNO3aGGQDDDnJQ0HK51kO6a",
      "include_colab_link": true
    },
    "kernelspec": {
      "name": "python3",
      "display_name": "Python 3"
    },
    "language_info": {
      "name": "python"
    }
  },
  "cells": [
    {
      "cell_type": "markdown",
      "metadata": {
        "id": "view-in-github",
        "colab_type": "text"
      },
      "source": [
        "<a href=\"https://colab.research.google.com/github/swargarajbhowmik/youtube-video-playlist-downloader-colab/blob/main/YouTube_Video_Playlist_Downloader.ipynb\" target=\"_parent\"><img src=\"https://colab.research.google.com/assets/colab-badge.svg\" alt=\"Open In Colab\"/></a>"
      ]
    },
    {
      "cell_type": "markdown",
      "source": [
        "## YouTube Video/Playlist Downloader\n",
        "#### By <a href=\"https://github.com/swargarajbhowmik\">@swargarajbhowmik</a>\n",
        "This Notebook uses the <b>PyTube</b> library to download videos/playlists from YouTube in the highest resolution stream. <br> Also can download the video to the Google Personal/Shared Drive.\n",
        "\n",
        "<a href=\"https://github.com/swargarajbhowmik/youtube-video-playlist-downloader-colab\">![Github Repo](https://img.shields.io/badge/View%20On%20Github-%23000000.svg?style=for-the-badge&logo=Github&logoColor=white)</a>\n",
        "\n"
      ],
      "metadata": {
        "id": "h2xqEvDD3tFl"
      }
    },
    {
      "cell_type": "markdown",
      "source": [
        "### Installing & Importing The Dependencies"
      ],
      "metadata": {
        "id": "_xvLe9xY5eks"
      }
    },
    {
      "cell_type": "code",
      "source": [
        "!pip install pytube\n",
        "from google.colab import drive\n",
        "import os, sys\n",
        "from pytube import YouTube"
      ],
      "metadata": {
        "id": "3WjThmcR3wdY"
      },
      "execution_count": null,
      "outputs": []
    },
    {
      "cell_type": "markdown",
      "source": [
        "### Mounting To Google Drive"
      ],
      "metadata": {
        "id": "WQ005aOM5m93"
      }
    },
    {
      "cell_type": "code",
      "source": [
        "drive.mount('/content/drive')"
      ],
      "metadata": {
        "id": "y_AEWDjW5doa"
      },
      "execution_count": null,
      "outputs": []
    },
    {
      "cell_type": "markdown",
      "source": [
        "### Use this cell if you want to mount to Shared Drive, Else Skip It"
      ],
      "metadata": {
        "id": "69Xg380650Lo"
      }
    },
    {
      "cell_type": "code",
      "source": [
        "shared_drive_name = input(\"Enter Shared Drive Name: \")\n",
        "os.chdir(f\"/content/drive/Shareddrives/{shared_drive_name}\")"
      ],
      "metadata": {
        "id": "Npt4Vcud5676"
      },
      "execution_count": null,
      "outputs": []
    },
    {
      "cell_type": "markdown",
      "source": [
        "### Video Downloader"
      ],
      "metadata": {
        "id": "-ozqTpdh6Ncv"
      }
    },
    {
      "cell_type": "code",
      "source": [
        "video_url = input(\"Enter Video URL: \")\n",
        "yt = YouTube(video_url)\n",
        "print(\"Currently Downloading: \" + yt.title)\n",
        "stream = yt.streams.get_highest_resolution()\n",
        "stream.download()\n",
        "print(\"Video downloaded successfully!\")"
      ],
      "metadata": {
        "id": "fTs2Al7s6Q07"
      },
      "execution_count": null,
      "outputs": []
    },
    {
      "cell_type": "markdown",
      "source": [
        "### Playlist Downloader"
      ],
      "metadata": {
        "id": "d307ryc26nqu"
      }
    },
    {
      "cell_type": "code",
      "source": [
        "from pytube import Playlist\n",
        "playlist_url = input(\"Enter Playlist URL: \")\n",
        "pl = Playlist(playlist_url)\n",
        "print(f\"Total videos in playlist: {len(pl.video_urls)}\")\n",
        "for video_url in pl.video_urls:\n",
        "    yt = YouTube(video_url)\n",
        "    print(\"Currently Downloading: \" + yt.title)\n",
        "    stream = yt.streams.get_highest_resolution()\n",
        "    stream.download()\n",
        "\n",
        "print(\"All videos downloaded successfully!\")"
      ],
      "metadata": {
        "id": "uee0UqRQ6sWl"
      },
      "execution_count": null,
      "outputs": []
    }
  ]
}
